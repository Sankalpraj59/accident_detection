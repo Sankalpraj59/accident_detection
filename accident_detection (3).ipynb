{
  "nbformat": 4,
  "nbformat_minor": 0,
  "metadata": {
    "colab": {
      "provenance": []
    },
    "kernelspec": {
      "name": "python3",
      "display_name": "Python 3"
    },
    "language_info": {
      "name": "python"
    }
  },
  "cells": [
    {
      "cell_type": "code",
      "execution_count": 4,
      "metadata": {
        "id": "-kuyrTEo4VUe"
      },
      "outputs": [],
      "source": [
        "import cv2\n",
        "import numpy as np # linear algebra\n",
        "import pandas as pd # data processing, CSV file I/O (e.g. pd.read_csv)\n",
        "import matplotlib.pyplot as plt\n",
        "import tensorflow as tf\n",
        "from tensorflow.keras import layers"
      ]
    },
    {
      "cell_type": "code",
      "source": [
        "batch_size = 100\n",
        "img_height = 250\n",
        "img_width = 250"
      ],
      "metadata": {
        "id": "vF_J_R9r3cjt"
      },
      "execution_count": 5,
      "outputs": []
    },
    {
      "cell_type": "code",
      "source": [
        "training_ds = tf.keras.preprocessing.image_dataset_from_directory(\n",
        "    '/content/drive/MyDrive/collision avoidance dataset/data/train',\n",
        "    seed=101,\n",
        "    image_size= (img_height, img_width),\n",
        "    batch_size=batch_size\n",
        "\n",
        ")\n",
        "\n",
        "testing_ds = tf.keras.preprocessing.image_dataset_from_directory(\n",
        "    '/content/drive/MyDrive/collision avoidance dataset/data/test',\n",
        "    seed=101,\n",
        "    image_size= (img_height, img_width),\n",
        "    batch_size=batch_size)\n",
        "\n",
        "validation_ds =  tf.keras.preprocessing.image_dataset_from_directory(\n",
        "    '/content/drive/MyDrive/collision avoidance dataset/data/val',\n",
        "    seed=101,\n",
        "    image_size= (img_height, img_width),\n",
        "    batch_size=batch_size)"
      ],
      "metadata": {
        "colab": {
          "base_uri": "https://localhost:8080/"
        },
        "id": "aR3ujdrk4bJj",
        "outputId": "e24dff3f-58e1-4050-d2b8-7b56ecb51f87"
      },
      "execution_count": 6,
      "outputs": [
        {
          "output_type": "stream",
          "name": "stdout",
          "text": [
            "Found 791 files belonging to 2 classes.\n",
            "Found 100 files belonging to 2 classes.\n",
            "Found 98 files belonging to 2 classes.\n"
          ]
        }
      ]
    },
    {
      "cell_type": "code",
      "source": [
        "class_names = training_ds.class_names\n",
        "\n",
        "## Configuring dataset for performance\n",
        "AUTOTUNE = tf.data.experimental.AUTOTUNE\n",
        "training_ds = training_ds.cache().prefetch(buffer_size=AUTOTUNE)\n",
        "testing_ds = testing_ds.cache().prefetch(buffer_size=AUTOTUNE)"
      ],
      "metadata": {
        "id": "DXZeDBtG5WeA"
      },
      "execution_count": 7,
      "outputs": []
    },
    {
      "cell_type": "code",
      "source": [
        "img_shape = (img_height, img_width, 3)\n",
        "\n",
        "base_model = tf.keras.applications.MobileNetV2(input_shape=img_shape,\n",
        "                                               include_top=False,\n",
        "                                               weights='imagenet')\n",
        "\n",
        "base_model.trainable = False"
      ],
      "metadata": {
        "colab": {
          "base_uri": "https://localhost:8080/"
        },
        "id": "z5OovyARVnOr",
        "outputId": "03781789-acec-4149-fbc3-8b98a8b8210c"
      },
      "execution_count": 8,
      "outputs": [
        {
          "output_type": "stream",
          "name": "stderr",
          "text": [
            "WARNING:tensorflow:`input_shape` is undefined or non-square, or `rows` is not in [96, 128, 160, 192, 224]. Weights for input shape (224, 224) will be loaded as the default.\n"
          ]
        },
        {
          "output_type": "stream",
          "name": "stdout",
          "text": [
            "Downloading data from https://storage.googleapis.com/tensorflow/keras-applications/mobilenet_v2/mobilenet_v2_weights_tf_dim_ordering_tf_kernels_1.0_224_no_top.h5\n",
            "9406464/9406464 [==============================] - 0s 0us/step\n"
          ]
        }
      ]
    },
    {
      "cell_type": "code",
      "source": [
        "model = tf.keras.Sequential([\n",
        "    base_model,\n",
        "    layers.Conv2D(32, 3, activation='relu'),\n",
        "    layers.MaxPooling2D((1, 1)),\n",
        "    layers.Conv2D(64, 3, activation='relu'),\n",
        "    layers.MaxPooling2D((1, 1)),\n",
        "    layers.Conv2D(128, 3, activation='relu'),\n",
        "    layers.Flatten(),\n",
        "    layers.Dense(len(class_names), activation='softmax')\n",
        "])"
      ],
      "metadata": {
        "id": "sOgBLPkDVvDl"
      },
      "execution_count": 9,
      "outputs": []
    },
    {
      "cell_type": "code",
      "source": [
        "model.compile(optimizer='adam',loss='sparse_categorical_crossentropy', metrics=['accuracy'])"
      ],
      "metadata": {
        "id": "awAEevMxWJ3R"
      },
      "execution_count": 10,
      "outputs": []
    },
    {
      "cell_type": "code",
      "source": [
        "history = model.fit(training_ds, validation_data = validation_ds, epochs = 10)"
      ],
      "metadata": {
        "colab": {
          "base_uri": "https://localhost:8080/"
        },
        "id": "A4R5ky1Kb9EU",
        "outputId": "7107ea74-eb99-4652-ea9b-960b751ca8a6"
      },
      "execution_count": 11,
      "outputs": [
        {
          "output_type": "stream",
          "name": "stdout",
          "text": [
            "Epoch 1/10\n",
            "8/8 [==============================] - 153s 9s/step - loss: 0.9539 - accuracy: 0.5575 - val_loss: 0.6433 - val_accuracy: 0.6327\n",
            "Epoch 2/10\n",
            "8/8 [==============================] - 57s 7s/step - loss: 0.5535 - accuracy: 0.7396 - val_loss: 0.4934 - val_accuracy: 0.8265\n",
            "Epoch 3/10\n",
            "8/8 [==============================] - 65s 9s/step - loss: 0.3934 - accuracy: 0.8420 - val_loss: 0.4120 - val_accuracy: 0.7959\n",
            "Epoch 4/10\n",
            "8/8 [==============================] - 59s 8s/step - loss: 0.2467 - accuracy: 0.9064 - val_loss: 0.3307 - val_accuracy: 0.8673\n",
            "Epoch 5/10\n",
            "8/8 [==============================] - 56s 7s/step - loss: 0.1425 - accuracy: 0.9507 - val_loss: 0.2702 - val_accuracy: 0.8673\n",
            "Epoch 6/10\n",
            "8/8 [==============================] - 62s 8s/step - loss: 0.0751 - accuracy: 0.9747 - val_loss: 0.2644 - val_accuracy: 0.8980\n",
            "Epoch 7/10\n",
            "8/8 [==============================] - 54s 7s/step - loss: 0.0612 - accuracy: 0.9836 - val_loss: 0.3014 - val_accuracy: 0.8878\n",
            "Epoch 8/10\n",
            "8/8 [==============================] - 57s 7s/step - loss: 0.0441 - accuracy: 0.9836 - val_loss: 0.3781 - val_accuracy: 0.8776\n",
            "Epoch 9/10\n",
            "8/8 [==============================] - 58s 7s/step - loss: 0.0572 - accuracy: 0.9823 - val_loss: 0.4128 - val_accuracy: 0.8469\n",
            "Epoch 10/10\n",
            "8/8 [==============================] - 60s 7s/step - loss: 0.0692 - accuracy: 0.9697 - val_loss: 0.3085 - val_accuracy: 0.8980\n"
          ]
        }
      ]
    },
    {
      "cell_type": "code",
      "source": [
        "plt.plot(history.history['loss'], label = 'training loss')\n",
        "plt.plot(history.history['accuracy'], label = 'training accuracy')\n",
        "plt.grid(True)\n",
        "plt.legend()"
      ],
      "metadata": {
        "colab": {
          "base_uri": "https://localhost:8080/",
          "height": 447
        },
        "id": "s1T1hYsncAw_",
        "outputId": "7a70fc74-3725-4137-d3dc-3336a034297b"
      },
      "execution_count": 12,
      "outputs": [
        {
          "output_type": "execute_result",
          "data": {
            "text/plain": [
              "<matplotlib.legend.Legend at 0x7ca6504cbca0>"
            ]
          },
          "metadata": {},
          "execution_count": 12
        },
        {
          "output_type": "display_data",
          "data": {
            "text/plain": [
              "<Figure size 640x480 with 1 Axes>"
            ],
            "image/png": "[encoded data removed]"
          },
          "metadata": {}
        }
      ]
    },
    {
      "cell_type": "code",
      "source": [
        "plt.plot(history.history['val_loss'], label = 'validation loss')\n",
        "plt.plot(history.history['val_accuracy'], label = 'validation accuracy')\n",
        "plt.grid(True)\n",
        "plt.legend()"
      ],
      "metadata": {
        "colab": {
          "base_uri": "https://localhost:8080/",
          "height": 447
        },
        "id": "xMuCF2cdUMr6",
        "outputId": "b4cf7601-e0a8-413a-9a10-0a82301ab571"
      },
      "execution_count": 13,
      "outputs": [
        {
          "output_type": "execute_result",
          "data": {
            "text/plain": [
              "<matplotlib.legend.Legend at 0x7ca650589d50>"
            ]
          },
          "metadata": {},
          "execution_count": 13
        },
        {
          "output_type": "display_data",
          "data": {
            "text/plain": [
              "<Figure size 640x480 with 1 Axes>"
            ],
            "image/png": "[encoded data removed]"
          },
          "metadata": {}
        }
      ]
    },
    {
      "cell_type": "code",
      "source": [
        "print(class_names)"
      ],
      "metadata": {
        "colab": {
          "base_uri": "https://localhost:8080/"
        },
        "id": "BtQS7_oUYSCS",
        "outputId": "097c6561-adfc-4bff-8437-0bb86641776b"
      },
      "execution_count": 14,
      "outputs": [
        {
          "output_type": "stream",
          "name": "stdout",
          "text": [
            "['Accident', 'Non Accident']\n"
          ]
        }
      ]
    },
    {
      "cell_type": "code",
      "source": [
        "!pip install youtube_dl"
      ],
      "metadata": {
        "colab": {
          "base_uri": "https://localhost:8080/"
        },
        "id": "-C1MnpgAjnBn",
        "outputId": "27ad38b4-5dbc-4b26-fbc1-63cf24d652c2"
      },
      "execution_count": 15,
      "outputs": [
        {
          "output_type": "stream",
          "name": "stdout",
          "text": [
            "Collecting youtube_dl\n",
            "  Downloading youtube_dl-2021.12.17-py2.py3-none-any.whl (1.9 MB)\n",
            "\u001b[2K     \u001b[90m━━━━━━━━━━━━━━━━━━━━━━━━━━━━━━━━━━━━━━━━\u001b[0m \u001b[32m1.9/1.9 MB\u001b[0m \u001b[31m10.5 MB/s\u001b[0m eta \u001b[36m0:00:00\u001b[0m\n",
            "\u001b[?25hInstalling collected packages: youtube_dl\n",
            "Successfully installed youtube_dl-2021.12.17\n"
          ]
        }
      ]
    },
    {
      "cell_type": "code",
      "source": [
        "!pip install twilio"
      ],
      "metadata": {
        "colab": {
          "base_uri": "https://localhost:8080/"
        },
        "id": "RjUzhvMNjvtf",
        "outputId": "770494d1-5696-418f-80b7-843bc1ff49c1"
      },
      "execution_count": 16,
      "outputs": [
        {
          "output_type": "stream",
          "name": "stdout",
          "text": [
            "Requirement already satisfied: twilio in /usr/local/lib/python3.10/dist-packages (9.0.5)\n",
            "Requirement already satisfied: requests>=2.0.0 in /usr/local/lib/python3.10/dist-packages (from twilio) (2.31.0)\n",
            "Requirement already satisfied: PyJWT<3.0.0,>=2.0.0 in /usr/lib/python3/dist-packages (from twilio) (2.3.0)\n",
            "Requirement already satisfied: aiohttp>=3.8.4 in /usr/local/lib/python3.10/dist-packages (from twilio) (3.9.5)\n",
            "Requirement already satisfied: aiohttp-retry>=2.8.3 in /usr/local/lib/python3.10/dist-packages (from twilio) (2.8.3)\n",
            "Requirement already satisfied: aiosignal>=1.1.2 in /usr/local/lib/python3.10/dist-packages (from aiohttp>=3.8.4->twilio) (1.3.1)\n",
            "Requirement already satisfied: attrs>=17.3.0 in /usr/local/lib/python3.10/dist-packages (from aiohttp>=3.8.4->twilio) (23.2.0)\n",
            "Requirement already satisfied: frozenlist>=1.1.1 in /usr/local/lib/python3.10/dist-packages (from aiohttp>=3.8.4->twilio) (1.4.1)\n",
            "Requirement already satisfied: multidict<7.0,>=4.5 in /usr/local/lib/python3.10/dist-packages (from aiohttp>=3.8.4->twilio) (6.0.5)\n",
            "Requirement already satisfied: yarl<2.0,>=1.0 in /usr/local/lib/python3.10/dist-packages (from aiohttp>=3.8.4->twilio) (1.9.4)\n",
            "Requirement already satisfied: async-timeout<5.0,>=4.0 in /usr/local/lib/python3.10/dist-packages (from aiohttp>=3.8.4->twilio) (4.0.3)\n",
            "Requirement already satisfied: charset-normalizer<4,>=2 in /usr/local/lib/python3.10/dist-packages (from requests>=2.0.0->twilio) (3.3.2)\n",
            "Requirement already satisfied: idna<4,>=2.5 in /usr/local/lib/python3.10/dist-packages (from requests>=2.0.0->twilio) (3.7)\n",
            "Requirement already satisfied: urllib3<3,>=1.21.1 in /usr/local/lib/python3.10/dist-packages (from requests>=2.0.0->twilio) (2.0.7)\n",
            "Requirement already satisfied: certifi>=2017.4.17 in /usr/local/lib/python3.10/dist-packages (from requests>=2.0.0->twilio) (2024.2.2)\n"
          ]
        }
      ]
    },
    {
      "cell_type": "code",
      "source": [
        "# prompt: convert model to the pickle file\n",
        "\n",
        "import pickle\n",
        "\n",
        "# Save the trained model as a pickle string.\n",
        "model_string = pickle.dumps(model)\n",
        "\n",
        "# Write the model string to a file.\n",
        "with open('model.pkl', 'wb') as f:\n",
        "  f.write(model_string)\n"
      ],
      "metadata": {
        "id": "tTYd_z8qjsyQ"
      },
      "execution_count": 17,
      "outputs": []
    },
    {
      "cell_type": "code",
      "source": [
        "import os\n",
        "\n",
        "current_working_directory = os.getcwd()\n",
        "\n",
        "# List all files in the current working directory\n",
        "files = os.listdir(current_working_directory)\n",
        "\n",
        "# Check if any of the files end with \".pkl\"\n",
        "pickle_files = [f for f in files if f.endswith(\".pkl\")]\n",
        "\n",
        "# Print the list of pickle files\n",
        "if pickle_files:\n",
        "    print(\"Pickle files found:\", pickle_files)\n",
        "else:\n",
        "    print(\"No pickle files found in the current working directory.\")"
      ],
      "metadata": {
        "colab": {
          "base_uri": "https://localhost:8080/"
        },
        "id": "J8s-gURnswKJ",
        "outputId": "1b71bdb5-d0c7-43f8-9610-f6aa1a7891e5"
      },
      "execution_count": 18,
      "outputs": [
        {
          "output_type": "stream",
          "name": "stdout",
          "text": [
            "Pickle files found: ['model.pkl']\n"
          ]
        }
      ]
    },
    {
      "cell_type": "code",
      "source": [
        "import joblib\n",
        "joblib.dump(model,'model_namk.pkl')"
      ],
      "metadata": {
        "colab": {
          "base_uri": "https://localhost:8080/"
        },
        "id": "CPisLliTt2fG",
        "outputId": "8bb22689-cf29-46e0-b524-9ab0bc6abb7b"
      },
      "execution_count": 19,
      "outputs": [
        {
          "output_type": "execute_result",
          "data": {
            "text/plain": [
              "['model_namk.pkl']"
            ]
          },
          "metadata": {},
          "execution_count": 19
        }
      ]
    },
    {
      "cell_type": "code",
      "source": [
        "import cv2\n",
        "import tensorflow as tf\n",
        "from twilio.rest import Client\n",
        "\n",
        "# Load the collision avoidance model\n",
        "model = joblib.load('model_namk.pkl')\n",
        "\n",
        "# Twilio credentials\n",
        "account_sid = 'AC1bbb269520ed1a17c60761c4c604a9'\n",
        "auth_token = 'b6d0077b9c3f54b77642d54f794ceye7'\n",
        "from_number = '+13342924424'\n",
        "to_number = '+918112976994'\n",
        "\n",
        "# Function to send message using Twilio\n",
        "def send_message(message):\n",
        "    client = Client(account_sid, auth_token)\n",
        "    message = client.messages.create(\n",
        "        body=message,\n",
        "        from_=from_number,\n",
        "        to=to_number\n",
        "    )\n",
        "    print(f'Message sent: {message.sid}')\n",
        "\n",
        "def preprocess_frame(frame):\n",
        "    # Resize frame to match model input size (250x250)\n",
        "    resized_frame = cv2.resize(frame, (img_height, img_width))\n",
        "    # Normalize pixel values to be between 0 and 1\n",
        "    normalized_frame = resized_frame / 255.0\n",
        "    return normalized_frame\n",
        "\n",
        "def predict_accident(frame):\n",
        "    # Preprocess frame\n",
        "    preprocessed_frame = preprocess_frame(frame)\n",
        "    # Expand dimensions to match model input shape (add batch dimension)\n",
        "    input_tensor = tf.expand_dims(preprocessed_frame, axis=0)\n",
        "    # Make prediction using the model\n",
        "    prediction = model.predict(input_tensor)\n",
        "    # Extract prediction probability for accident class (index 1)\n",
        "    accident_probability = prediction[0][1]\n",
        "    return accident_probability\n",
        "\n",
        "\n",
        "# Open the video file\n",
        "video_path = ('/content/drive/MyDrive/CDD2/videos/testing/positive/000456.mp4')\n",
        "cap = cv2.VideoCapture(video_path)\n",
        "\n",
        "# Loop through each frame\n",
        "while cap.isOpened():\n",
        "    ret, frame = cap.read()\n",
        "    if not ret:\n",
        "        break\n",
        "\n",
        "    # Resize frame to match model input size (if needed)\n",
        "    # Predict if an accident occurs\n",
        "    prediction = predict_accident(frame)\n",
        "\n",
        "    # If accident is detected, stop the video and send message\n",
        "    if prediction > 0.5:  # Adjust threshold as needed\n",
        "        cap.release()  # Stop video playback\n",
        "        send_message(\"Accident Detected!\")  # Send message using Twilio\n",
        "        break\n",
        "\n",
        "# Release the video capture object\n",
        "cap.release()\n"
      ],
      "metadata": {
        "colab": {
          "base_uri": "https://localhost:8080/"
        },
        "id": "cDXnyUmEzUNN",
        "outputId": "7a190ef3-1801-42df-fa4b-dd0b0da929eb"
      },
      "execution_count": 21,
      "outputs": [
        {
          "output_type": "stream",
          "name": "stdout",
          "text": [
            "1/1 [==============================] - 1s 1s/step\n",
            "Message sent: SM3c8958319292e0d55eb7aaf8e8b8ded8\n"
          ]
        }
      ]
    },
    {
      "cell_type": "code",
      "source": [],
      "metadata": {
        "id": "GXCGIQad3obg"
      },
      "execution_count": 20,
      "outputs": []
    }
  ]
}